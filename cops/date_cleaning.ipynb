{
 "cells": [
  {
   "metadata": {
    "ExecuteTime": {
     "end_time": "2025-05-19T16:45:45.907765Z",
     "start_time": "2025-05-19T16:45:45.665027Z"
    }
   },
   "cell_type": "code",
   "source": [
    "#checking the empty cell in the given data\n",
    "import csv\n",
    "\n",
    "filename = \"updated_housing.csv\"\n",
    "\n",
    "with open(filename, newline='') as f:\n",
    "    reader = csv.reader(f)\n",
    "    data = list(reader)\n",
    "\n",
    "header = data[0]\n",
    "rows = data[1:]\n",
    "\n",
    "has_empty = False\n",
    "\n",
    "for row_index, row in enumerate(rows):\n",
    "    for col_index, value in enumerate(row):\n",
    "        if value.strip() == '':\n",
    "            print(f\"Empty cell found at row {row_index + 2}, column '{header[col_index]}'\")\n",
    "            has_empty = True\n",
    "\n",
    "if not has_empty:\n",
    "    print(\"No empty cells found in the file.\")"
   ],
   "id": "initial_id",
   "outputs": [
    {
     "name": "stdout",
     "output_type": "stream",
     "text": [
      "No empty cells found in the file.\n"
     ]
    }
   ],
   "execution_count": 9
  },
  {
   "metadata": {
    "ExecuteTime": {
     "end_time": "2025-05-19T16:45:46.160518Z",
     "start_time": "2025-05-19T16:45:46.158616Z"
    }
   },
   "cell_type": "code",
   "source": "",
   "id": "791751d29d500ed0",
   "outputs": [],
   "execution_count": null
  },
  {
   "metadata": {
    "ExecuteTime": {
     "end_time": "2025-05-19T16:45:46.257719Z",
     "start_time": "2025-05-19T16:45:46.234016Z"
    }
   },
   "cell_type": "code",
   "source": [
    "#finding the unique in colum ocean_proximity\n",
    "import pandas as pd\n",
    "\n",
    "data = pd.read_csv('housing.csv')\n",
    "unique_values = data['ocean_proximity'].unique()\n",
    "print(unique_values)"
   ],
   "id": "e4114dc6c80bfbfb",
   "outputs": [
    {
     "name": "stdout",
     "output_type": "stream",
     "text": [
      "['NEAR BAY' '<1H OCEAN' 'INLAND' 'NEAR OCEAN' 'ISLAND']\n"
     ]
    }
   ],
   "execution_count": 10
  },
  {
   "metadata": {
    "ExecuteTime": {
     "end_time": "2025-05-19T16:45:46.348864Z",
     "start_time": "2025-05-19T16:45:46.316729Z"
    }
   },
   "cell_type": "code",
   "source": [
    "import csv\n",
    "from collections import defaultdict\n",
    "\n",
    "filename = 'housing.csv'  # your file name\n",
    "\n",
    "categories = ['NEAR BAY', '<1H OCEAN', 'INLAND', 'NEAR OCEAN', 'ISLAND']\n",
    "sums = defaultdict(float)\n",
    "counts = defaultdict(int)\n",
    "\n",
    "with open(filename, 'r') as f:\n",
    "    reader = csv.reader(f)\n",
    "    header = next(reader)\n",
    "\n",
    "    # find indices for median_price and ocean_proximity\n",
    "    price_idx = header.index('median_house_value')  # or 'median_price' if named differently\n",
    "    ocean_idx = header.index('ocean_proximity')\n",
    "\n",
    "    for row in reader:\n",
    "        ocean = row[ocean_idx]\n",
    "        if ocean in categories:\n",
    "            try:\n",
    "                price = float(row[price_idx])\n",
    "                sums[ocean] += price\n",
    "                counts[ocean] += 1\n",
    "            except:\n",
    "                continue\n",
    "\n",
    "for cat in categories:\n",
    "    if counts[cat] > 0:\n",
    "        avg_price = sums[cat] / counts[cat]\n",
    "        print(f\"{cat}: average median price = {avg_price}\")\n",
    "    else:\n",
    "        print(f\"{cat}: no data found\")"
   ],
   "id": "697a250b105f70b3",
   "outputs": [
    {
     "name": "stdout",
     "output_type": "stream",
     "text": [
      "NEAR BAY: average median price = 259212.31179039303\n",
      "<1H OCEAN: average median price = 240084.28546409807\n",
      "INLAND: average median price = 124805.39200122119\n",
      "NEAR OCEAN: average median price = 249433.97742663656\n",
      "ISLAND: average median price = 380440.0\n"
     ]
    }
   ],
   "execution_count": 11
  },
  {
   "metadata": {
    "ExecuteTime": {
     "end_time": "2025-05-19T16:45:46.400173Z",
     "start_time": "2025-05-19T16:45:46.398564Z"
    }
   },
   "cell_type": "code",
   "source": "",
   "id": "8972e7d6bd3c13a2",
   "outputs": [],
   "execution_count": null
  },
  {
   "metadata": {
    "ExecuteTime": {
     "end_time": "2025-05-19T16:45:46.624031Z",
     "start_time": "2025-05-19T16:45:46.484399Z"
    }
   },
   "cell_type": "code",
   "source": [
    "# Replace 'ocean_proximity' strings with average prices and create a new CSV\n",
    "\n",
    "# Importing pandas\n",
    "import pandas as pd\n",
    "\n",
    "# Mapping each category to its average median price\n",
    "#it improve th r2 from 0.64 to 0.67\n",
    "price_mapping = {\n",
    "    'NEAR BAY': 259212.31179039303,\n",
    "    '<1H OCEAN': 240084.28546409807,\n",
    "    'INLAND': 124805.39200122119,\n",
    "    'NEAR OCEAN': 249433.97742663656,\n",
    "    'ISLAND': 380440.0\n",
    "}\n",
    "\n",
    "# Load the existing housing data\n",
    "original_df = pd.read_csv('updated_housing.csv')\n",
    "\n",
    "# Create a copy to preserve the original\n",
    "updated_df = original_df.copy()\n",
    "\n",
    "# Replace the values in the 'ocean_proximity' column\n",
    "updated_df['ocean_proximity'] = updated_df['ocean_proximity'].map(price_mapping)\n",
    "\n",
    "# Save the modified data to a new file\n",
    "updated_df.to_csv('updated_ocean.csv', index=False)"
   ],
   "id": "ff5937e890daa133",
   "outputs": [],
   "execution_count": 12
  },
  {
   "metadata": {
    "ExecuteTime": {
     "end_time": "2025-05-19T16:45:46.716466Z",
     "start_time": "2025-05-19T16:45:46.628188Z"
    }
   },
   "cell_type": "code",
   "source": [
    "# filling missing total_bedrooms using linear regression with numpy\n",
    "\n",
    "# import required modules\n",
    "import csv\n",
    "import numpy as np\n",
    "\n",
    "# Step 1: Read original CSV\n",
    "with open(\"housing.csv\", newline='') as f:\n",
    "    reader = csv.reader(f)\n",
    "    data = list(reader)\n",
    "\n",
    "header = data[0]\n",
    "rows = data[1:]\n",
    "\n",
    "# Step 2: Get indices\n",
    "idx_rooms = header.index(\"total_rooms\")\n",
    "idx_pop = header.index(\"population\")\n",
    "idx_bed = header.index(\"total_bedrooms\")\n",
    "\n",
    "# Step 3: Prepare data for regression (only complete rows)\n",
    "X = []\n",
    "y = []\n",
    "\n",
    "for row in rows:\n",
    "    if row[idx_rooms] and row[idx_pop] and row[idx_bed]:\n",
    "        x1 = float(row[idx_rooms])\n",
    "        x2 = float(row[idx_pop])\n",
    "        X.append([1.0, x1, x2])  # bias term\n",
    "        y.append(float(row[idx_bed]))\n",
    "\n",
    "X = np.array(X)\n",
    "y = np.array(y)\n",
    "\n",
    "# Step 4: Compute theta using the Normal Equation\n",
    "# theta = (X^T X)^(-1) X^T y\n",
    "theta = np.linalg.inv(X.T @ X) @ X.T @ y\n",
    "\n",
    "# Step 5: Fill missing total_bedrooms\n",
    "updated_rows = []\n",
    "for row in rows:\n",
    "    if row[idx_bed] == '':\n",
    "        if row[idx_rooms] and row[idx_pop]:\n",
    "            x1 = float(row[idx_rooms])\n",
    "            x2 = float(row[idx_pop])\n",
    "            pred_bed = theta[0] + theta[1]*x1 + theta[2]*x2\n",
    "            row[idx_bed] = str(round(pred_bed, 2))\n",
    "    updated_rows.append(row)\n",
    "\n",
    "# Step 6: Write updated data to new CSV\n",
    "with open(\"updated_housing.csv\", \"w\", newline='') as f:\n",
    "    writer = csv.writer(f)\n",
    "    writer.writerow(header)\n",
    "    writer.writerows(updated_rows)\n",
    "\n",
    "print(\"Missing total_bedrooms filled and saved as 'updated_housing.csv'\")"
   ],
   "id": "7b841e0c9aff6b00",
   "outputs": [
    {
     "name": "stdout",
     "output_type": "stream",
     "text": [
      "Missing total_bedrooms filled and saved as 'updated_housing.csv'\n"
     ]
    }
   ],
   "execution_count": 13
  },
  {
   "metadata": {
    "ExecuteTime": {
     "end_time": "2025-05-19T16:45:46.791342Z",
     "start_time": "2025-05-19T16:45:46.789163Z"
    }
   },
   "cell_type": "code",
   "source": "",
   "id": "a1acb05fd657ee93",
   "outputs": [],
   "execution_count": null
  },
  {
   "metadata": {
    "ExecuteTime": {
     "end_time": "2025-05-19T16:45:46.820188Z",
     "start_time": "2025-05-19T16:45:46.817566Z"
    }
   },
   "cell_type": "code",
   "source": "",
   "id": "7df3a67f8a126882",
   "outputs": [],
   "execution_count": null
  },
  {
   "metadata": {},
   "cell_type": "code",
   "outputs": [],
   "execution_count": null,
   "source": "d",
   "id": "427143b23671fcf2"
  }
 ],
 "metadata": {
  "kernelspec": {
   "display_name": "Python 3",
   "language": "python",
   "name": "python3"
  },
  "language_info": {
   "codemirror_mode": {
    "name": "ipython",
    "version": 2
   },
   "file_extension": ".py",
   "mimetype": "text/x-python",
   "name": "python",
   "nbconvert_exporter": "python",
   "pygments_lexer": "ipython2",
   "version": "2.7.6"
  }
 },
 "nbformat": 4,
 "nbformat_minor": 5
}
