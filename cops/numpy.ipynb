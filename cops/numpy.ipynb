{
 "cells": [
  {
   "cell_type": "code",
   "id": "initial_id",
   "metadata": {
    "collapsed": true,
    "ExecuteTime": {
     "end_time": "2025-05-19T16:21:34.375890Z",
     "start_time": "2025-05-19T16:20:44.478327Z"
    }
   },
   "source": [
    "#Data loading, preprocessing, training\n",
    "import numpy as np\n",
    "import time\n",
    "\n",
    "\n",
    "with open('updated_ocean.csv', 'r') as file:\n",
    "    lines = file.readlines()\n",
    "\n",
    "x_data = []\n",
    "y_data = []\n",
    "\n",
    "for i, line in enumerate(lines[1:], start=2):\n",
    "    parts = line.strip().split(',')\n",
    "    if len(parts) < 10:\n",
    "        continue\n",
    "    try:\n",
    "        longitude = float(parts[0])\n",
    "        latitude = float(parts[1])\n",
    "        age = float(parts[2])\n",
    "        total_rooms = float(parts[3])\n",
    "        total_bedrooms = float(parts[4])\n",
    "        population = float(parts[5])\n",
    "        households = float(parts[6])\n",
    "        income = min(float(parts[7]), 15)\n",
    "        value = float(parts[8])\n",
    "        ocean_proximity = float(parts[9])\n",
    "\n",
    "        if total_rooms == 0 or households == 0:\n",
    "            continue\n",
    "\n",
    "        rooms_per_person = total_rooms / population if population != 0 else 0\n",
    "        bedrooms_per_room = total_bedrooms / total_rooms\n",
    "        income_per_household = income / households\n",
    "        rooms_per_household = total_rooms / households\n",
    "        population_per_household = population / households\n",
    "\n",
    "        features = [\n",
    "            longitude,\n",
    "            latitude,\n",
    "            age,\n",
    "            income,\n",
    "            rooms_per_person,\n",
    "            bedrooms_per_room,\n",
    "            rooms_per_household,\n",
    "            population_per_household,\n",
    "            income_per_household,\n",
    "            ocean_proximity\n",
    "        ]\n",
    "\n",
    "        x_data.append(features)\n",
    "        y_data.append(value)\n",
    "    except:\n",
    "        continue\n",
    "\n",
    "x_data = np.array(x_data)\n",
    "y_data = np.array(y_data)\n",
    "\n",
    "# Clip outliers\n",
    "y_data = np.clip(y_data, a_min=None, a_max=np.percentile(y_data, 99))\n",
    "\n",
    "# Standardize features\n",
    "x_mean = x_data.mean(axis=0)\n",
    "x_std = x_data.std(axis=0)\n",
    "x_data = (x_data - x_mean) / x_std\n",
    "x_data = np.nan_to_num(x_data)\n",
    "\n",
    "# Add bias term\n",
    "x_data = np.hstack([np.ones((x_data.shape[0], 1)), x_data])\n",
    "\n",
    "# Normalize target\n",
    "y_min = y_data.min()\n",
    "y_max = y_data.max()\n",
    "y_data = (y_data - y_min) / (y_max - y_min)\n",
    "y_data = y_data.reshape(-1, 1)\n",
    "\n",
    "# Train-test split\n",
    "split = int(0.8 * len(x_data))\n",
    "x_train, x_test = x_data[:split], x_data[split:]\n",
    "y_train, y_test = y_data[:split], y_data[split:]\n",
    "\n",
    "# Gradient Descent with L2 regularization\n",
    "weights = np.random.randn(x_train.shape[1], 1) * 0.01\n",
    "alpha = 0.01\n",
    "epochs = 10000\n",
    "lambda_reg = 0.1\n",
    "n = x_train.shape[0]\n",
    "\n",
    "costs = []\n",
    "\n",
    "start_time = time.time()\n",
    "\n",
    "for epoch in range(epochs):\n",
    "    predictions = x_train @ weights\n",
    "    errors = predictions - y_train\n",
    "\n",
    "    cost = (np.sum(errors**2) / (2*n)) + (lambda_reg / 2) * np.sum(weights[1:]**2)\n",
    "    costs.append(cost)\n",
    "\n",
    "    gradient = (x_train.T @ errors) / n + lambda_reg * weights\n",
    "    gradient[0] -= lambda_reg * weights[0]\n",
    "    weights -= alpha * gradient\n",
    "\n",
    "end_time = time.time()\n",
    "training_time = end_time - start_time\n",
    "\n",
    "print(\"Training time (seconds):\", training_time)"
   ],
   "outputs": [
    {
     "name": "stdout",
     "output_type": "stream",
     "text": [
      "Training time (seconds): 49.77848410606384\n"
     ]
    }
   ],
   "execution_count": 23
  },
  {
   "metadata": {
    "ExecuteTime": {
     "end_time": "2025-05-19T16:21:34.432510Z",
     "start_time": "2025-05-19T16:21:34.405089Z"
    }
   },
   "cell_type": "code",
   "source": [
    "\n",
    "def evaluate(x, y_true, weights):\n",
    "    preds = x @ weights\n",
    "    errors = y_true - preds\n",
    "    mae = np.mean(np.abs(errors))\n",
    "    rmse = np.sqrt(np.mean(errors**2))\n",
    "    y_mean = np.mean(y_true)\n",
    "    total_var = np.sum((y_true - y_mean)**2)\n",
    "    residual_var = np.sum(errors**2)\n",
    "    r2 = 1 - residual_var / total_var\n",
    "    return mae, rmse, r2\n",
    "\n",
    "eval_start = time.time()\n",
    "mae, rmse, r2 = evaluate(x_test, y_test, weights)\n",
    "\n",
    "custom_input = np.array([\n",
    "    -122.23,\n",
    "    37.88,\n",
    "    41,\n",
    "    8.3252,\n",
    "    880 / 322,\n",
    "    129 / 880,\n",
    "    880 / 126,\n",
    "    322 / 126,\n",
    "    8.3252 / 126,\n",
    "    259212\n",
    "])\n",
    "\n",
    "custom_input = (custom_input - x_mean) / x_std\n",
    "custom_input = np.nan_to_num(custom_input)\n",
    "custom_input = np.insert(custom_input, 0, 1.0)\n",
    "predicted_normalized = custom_input @ weights\n",
    "predicted_normalized = np.clip(predicted_normalized, 0, 1)\n",
    "predicted_value = predicted_normalized * (y_max - y_min) + y_min\n",
    "\n",
    "eval_end = time.time()\n",
    "evaluation_time = eval_end - eval_start\n",
    "\n",
    "print(\"Predicted median_house_value:\", predicted_value.item())\n",
    "print(\"MAE:\", mae * (y_max - y_min))\n",
    "print(\"RMSE:\", rmse * (y_max - y_min))\n",
    "print(\"R² Score:\", r2)\n",
    "print(\"Evaluation + Prediction time (seconds):\", evaluation_time)\n",
    "print(\"Trained weights:\", weights.flatten())\n"
   ],
   "id": "ac1a3ae94cdde364",
   "outputs": [
    {
     "name": "stdout",
     "output_type": "stream",
     "text": [
      "Predicted median_house_value: 400959.5058547612\n",
      "MAE: 48515.65502790839\n",
      "RMSE: 68558.204895204\n",
      "R² Score: 0.677438840657757\n",
      "Evaluation + Prediction time (seconds): 0.010319232940673828\n",
      "Trained weights: [ 0.38914547 -0.02669388 -0.03344967  0.02290499  0.14496131  0.05915814\n",
      "  0.0179122  -0.03939036 -0.0077711  -0.00260295  0.05492467]\n"
     ]
    }
   ],
   "execution_count": 24
  },
  {
   "metadata": {
    "ExecuteTime": {
     "end_time": "2025-05-19T16:21:34.629453Z",
     "start_time": "2025-05-19T16:21:34.440209Z"
    }
   },
   "cell_type": "code",
   "source": [
    "# Plot cost function convergence\n",
    "import matplotlib.pyplot as plt\n",
    "\n",
    "plt.figure(figsize=(10, 5))\n",
    "plt.plot(range(len(costs)), costs, label='Training Cost')\n",
    "plt.xlabel('Epochs')\n",
    "plt.ylabel('Cost')\n",
    "plt.title('Cost Function Convergence')\n",
    "plt.grid(True)\n",
    "plt.legend()\n",
    "plt.show()"
   ],
   "id": "db80c8332c7dafdd",
   "outputs": [
    {
     "data": {
      "text/plain": [
       "<Figure size 1000x500 with 1 Axes>"
      ],
      "image/png": "[encoded data removed]"
     },
     "metadata": {},
     "output_type": "display_data"
    }
   ],
   "execution_count": 25
  },
  {
   "metadata": {
    "ExecuteTime": {
     "end_time": "2025-05-19T16:21:34.639707Z",
     "start_time": "2025-05-19T16:21:34.637970Z"
    }
   },
   "cell_type": "code",
   "source": "",
   "id": "73ab96b83ef18100",
   "outputs": [],
   "execution_count": null
  },
  {
   "metadata": {
    "ExecuteTime": {
     "end_time": "2025-05-19T16:21:34.812673Z",
     "start_time": "2025-05-19T16:21:34.645484Z"
    }
   },
   "cell_type": "code",
   "source": [
    "import matplotlib.pyplot as plt\n",
    "\n",
    "plt.figure(figsize=(12, 6))\n",
    "\n",
    "# Plot cost over epochs for the trained model\n",
    "plt.plot(costs, label='With L2 Regularization', color='blue')\n",
    "\n",
    "# Highlight final cost point\n",
    "plt.scatter(len(costs) - 1, costs[-1], color='blue', s=60, edgecolor='black', zorder=5)\n",
    "\n",
    "# Annotate final cost value\n",
    "plt.text(len(costs) - 1, costs[-1], f'{costs[-1]:.4f}', color='blue', ha='right', va='bottom')\n",
    "\n",
    "# Add labels and grid\n",
    "plt.title('Convergence of Gradient Descent (L2 Regularization)')\n",
    "plt.xlabel('Epochs')\n",
    "plt.ylabel('Cost')\n",
    "plt.legend()\n",
    "plt.grid(True)\n",
    "plt.tight_layout()\n",
    "plt.show()"
   ],
   "id": "1e16fa0dd2fef1cf",
   "outputs": [
    {
     "data": {
      "text/plain": [
       "<Figure size 1200x600 with 1 Axes>"
      ],
      "image/png": "[encoded data removed]"
     },
     "metadata": {},
     "output_type": "display_data"
    }
   ],
   "execution_count": 26
  },
  {
   "metadata": {
    "ExecuteTime": {
     "end_time": "2025-05-19T16:21:34.821859Z",
     "start_time": "2025-05-19T16:21:34.819411Z"
    }
   },
   "cell_type": "code",
   "source": "",
   "id": "828c3bbada850b27",
   "outputs": [],
   "execution_count": null
  },
  {
   "metadata": {
    "ExecuteTime": {
     "end_time": "2025-05-19T16:21:34.827942Z",
     "start_time": "2025-05-19T16:21:34.826146Z"
    }
   },
   "cell_type": "code",
   "source": "",
   "id": "c957c2567cd027e0",
   "outputs": [],
   "execution_count": null
  },
  {
   "metadata": {
    "ExecuteTime": {
     "end_time": "2025-05-19T16:21:34.834266Z",
     "start_time": "2025-05-19T16:21:34.832534Z"
    }
   },
   "cell_type": "code",
   "source": "",
   "id": "7579208b4433c748",
   "outputs": [],
   "execution_count": null
  },
  {
   "metadata": {
    "ExecuteTime": {
     "end_time": "2025-05-19T16:21:34.839990Z",
     "start_time": "2025-05-19T16:21:34.838088Z"
    }
   },
   "cell_type": "code",
   "source": "",
   "id": "585eedd243adc82a",
   "outputs": [],
   "execution_count": null
  },
  {
   "metadata": {
    "ExecuteTime": {
     "end_time": "2025-05-19T16:21:34.847773Z",
     "start_time": "2025-05-19T16:21:34.844251Z"
    }
   },
   "cell_type": "code",
   "source": "",
   "id": "fdd3eb85c516e89b",
   "outputs": [],
   "execution_count": null
  },
  {
   "metadata": {
    "ExecuteTime": {
     "end_time": "2025-05-19T16:21:34.859034Z",
     "start_time": "2025-05-19T16:21:34.856498Z"
    }
   },
   "cell_type": "code",
   "source": "",
   "id": "49e00025df3cda0d",
   "outputs": [],
   "execution_count": null
  },
  {
   "metadata": {
    "ExecuteTime": {
     "end_time": "2025-05-19T16:21:35.086790Z",
     "start_time": "2025-05-19T16:21:34.972239Z"
    }
   },
   "cell_type": "code",
   "source": "",
   "id": "d7ca567b65ef7581",
   "outputs": [],
   "execution_count": null
  },
  {
   "metadata": {
    "ExecuteTime": {
     "end_time": "2025-05-19T16:21:35.308753Z",
     "start_time": "2025-05-19T16:21:35.305364Z"
    }
   },
   "cell_type": "code",
   "source": "",
   "id": "e3050b0eb71896b3",
   "outputs": [],
   "execution_count": null
  },
  {
   "metadata": {},
   "cell_type": "code",
   "outputs": [],
   "execution_count": null,
   "source": "",
   "id": "3f28bb59414d042d"
  }
 ],
 "metadata": {
  "kernelspec": {
   "display_name": "Python 3",
   "language": "python",
   "name": "python3"
  },
  "language_info": {
   "codemirror_mode": {
    "name": "ipython",
    "version": 2
   },
   "file_extension": ".py",
   "mimetype": "text/x-python",
   "name": "python",
   "nbconvert_exporter": "python",
   "pygments_lexer": "ipython2",
   "version": "2.7.6"
  }
 },
 "nbformat": 4,
 "nbformat_minor": 5
}
