{
 "cells": [
  {
   "cell_type": "code",
   "id": "initial_id",
   "metadata": {
    "collapsed": true,
    "ExecuteTime": {
     "end_time": "2025-05-19T17:35:50.795923Z",
     "start_time": "2025-05-19T17:35:50.705678Z"
    }
   },
   "source": "",
   "outputs": [
    {
     "name": "stdout",
     "output_type": "stream",
     "text": [
      "Trained coefficients: [ 0.20492331 -1.76041769  2.59150772 -1.72845641  1.44219696  0.22161989]\n",
      "Trained intercept: -0.08854931784837666\n",
      "MAE: 56812.04\n",
      "RMSE: 77607.49\n",
      "R² Score: 0.5637\n",
      "Predicted median_house_value for custom input: 255036.20\n"
     ]
    }
   ],
   "execution_count": 46
  },
  {
   "metadata": {
    "ExecuteTime": {
     "end_time": "2025-05-19T17:34:57.010437Z",
     "start_time": "2025-05-19T17:34:56.670154Z"
    }
   },
   "cell_type": "code",
   "source": [
    "# Gradient descent with enhanced features using scikit-learn Ridge regression\n",
    "# Loading data from updated_ocean.csv only\n",
    "\n",
    "import numpy as np\n",
    "import time\n",
    "from sklearn.linear_model import Ridge\n",
    "from sklearn.preprocessing import StandardScaler\n",
    "from sklearn.model_selection import train_test_split\n",
    "from sklearn.metrics import mean_absolute_error, mean_squared_error, r2_score\n",
    "\n",
    "# Load data\n",
    "with open('updated_ocean.csv', 'r') as file:\n",
    "    lines = file.readlines()\n",
    "\n",
    "x_data = []\n",
    "y_data = []\n",
    "\n",
    "for line in lines[1:]:\n",
    "    parts = line.strip().split(',')\n",
    "    if len(parts) < 10:\n",
    "        continue\n",
    "    try:\n",
    "        longitude = float(parts[0])\n",
    "        latitude = float(parts[1])\n",
    "        age = float(parts[2])\n",
    "        total_rooms = float(parts[3])\n",
    "        total_bedrooms = float(parts[4])\n",
    "        population = float(parts[5])\n",
    "        households = float(parts[6])\n",
    "        income = min(float(parts[7]), 15)\n",
    "        value = float(parts[8])\n",
    "        ocean_proximity = float(parts[9])\n",
    "\n",
    "        if total_rooms == 0 or households == 0:\n",
    "            continue\n",
    "\n",
    "        rooms_per_person = total_rooms / population if population != 0 else 0\n",
    "        bedrooms_per_room = total_bedrooms / total_rooms\n",
    "        income_per_household = income / households\n",
    "        rooms_per_household = total_rooms / households\n",
    "        population_per_household = population / households\n",
    "\n",
    "        features = [\n",
    "            longitude,\n",
    "            latitude,\n",
    "            age,\n",
    "            income,\n",
    "            rooms_per_person,\n",
    "            bedrooms_per_room,\n",
    "            rooms_per_household,\n",
    "            population_per_household,\n",
    "            income_per_household,\n",
    "            ocean_proximity\n",
    "        ]\n",
    "\n",
    "        x_data.append(features)\n",
    "        y_data.append(value)\n",
    "    except:\n",
    "        continue\n",
    "\n",
    "x_data = np.array(x_data)\n",
    "y_data = np.array(y_data)\n",
    "\n",
    "# Clip target outliers at 99th percentile\n",
    "y_data = np.clip(y_data, a_min=None, a_max=np.percentile(y_data, 99))\n",
    "\n",
    "# Normalize target (min-max scaling)\n",
    "y_min = y_data.min()\n",
    "y_max = y_data.max()\n",
    "y_data_norm = (y_data - y_min) / (y_max - y_min)\n",
    "\n",
    "# Train-test split\n",
    "x_train, x_test, y_train, y_test = train_test_split(x_data, y_data_norm, test_size=0.2, random_state=42)\n",
    "\n",
    "# Standardize features (fit on train, transform both)\n",
    "scaler = StandardScaler()\n",
    "x_train_scaled = scaler.fit_transform(x_train)\n",
    "x_test_scaled = scaler.transform(x_test)\n",
    "\n",
    "# Ridge regression (L2 regularization)\n",
    "alpha = 0.01\n",
    "model = Ridge(alpha=alpha, fit_intercept=True, max_iter=20000)\n",
    "\n",
    "start_time = time.time()\n",
    "model.fit(x_train_scaled, y_train)\n",
    "fit_duration = time.time() - start_time\n",
    "print(\"Fitting time (seconds):\", fit_duration)\n",
    "\n",
    "\n"
   ],
   "id": "52bb975bb94e58fe",
   "outputs": [
    {
     "name": "stdout",
     "output_type": "stream",
     "text": [
      "Fitting time (seconds): 0.007634878158569336\n"
     ]
    }
   ],
   "execution_count": 44
  },
  {
   "metadata": {
    "ExecuteTime": {
     "end_time": "2025-05-19T17:34:57.036758Z",
     "start_time": "2025-05-19T17:34:57.023271Z"
    }
   },
   "cell_type": "code",
   "source": [
    " #Predictions and evaluation\n",
    "y_pred_norm = model.predict(x_test_scaled)\n",
    "\n",
    "mae = mean_absolute_error(y_test, y_pred_norm)\n",
    "rmse = np.sqrt(mean_squared_error(y_test, y_pred_norm))\n",
    "r2 = r2_score(y_test, y_pred_norm)\n",
    "\n",
    "# Predict custom input (remember to scale features)\n",
    "custom_input = np.array([\n",
    "    -122.23,\n",
    "    37.88,\n",
    "    41,\n",
    "    8.3252,\n",
    "    88 / 322,\n",
    "    129 / 880,\n",
    "    880 / 126,\n",
    "    322 / 126,\n",
    "    8.3252 / 123,\n",
    "    259212\n",
    "])\n",
    "\n",
    "custom_input_scaled = scaler.transform(custom_input.reshape(1, -1))\n",
    "predicted_normalized = model.predict(custom_input_scaled)\n",
    "predicted_normalized = np.clip(predicted_normalized, 0, 1)\n",
    "predicted_value = predicted_normalized * (y_max - y_min) + y_min\n",
    "\n",
    "print(\"Predicted median_house_value:\", predicted_value.item())\n",
    "print(\"MAE:\", mae * (y_max - y_min))\n",
    "print(\"RMSE:\", rmse * (y_max - y_min))\n",
    "print(\"R² Score:\", r2)\n",
    "print(\"Trained coefficients:\", model.coef_)\n",
    "print(\"Intercept:\", model.intercept_)"
   ],
   "id": "6226ee97df8701bb",
   "outputs": [
    {
     "name": "stdout",
     "output_type": "stream",
     "text": [
      "Predicted median_house_value: 326340.94596507214\n",
      "MAE: 48512.84090043857\n",
      "RMSE: 67730.10644496528\n",
      "R² Score: 0.6499285799152235\n",
      "Trained coefficients: [-0.11897212 -0.12450676  0.02193537  0.16825466  0.09429322  0.02834084\n",
      " -0.07015727 -0.00289767 -0.00560579  0.02975974]\n",
      "Intercept: 0.39627814676614104\n"
     ]
    }
   ],
   "execution_count": 45
  },
  {
   "metadata": {
    "ExecuteTime": {
     "end_time": "2025-05-19T17:34:57.280810Z",
     "start_time": "2025-05-19T17:34:57.278281Z"
    }
   },
   "cell_type": "code",
   "source": "",
   "id": "be33b5b5134b2a23",
   "outputs": [],
   "execution_count": null
  },
  {
   "metadata": {
    "ExecuteTime": {
     "end_time": "2025-05-19T16:27:00.213033Z",
     "start_time": "2025-05-19T16:27:00.210507Z"
    }
   },
   "cell_type": "code",
   "source": "",
   "id": "d257f6bf3decdcfc",
   "outputs": [],
   "execution_count": null
  },
  {
   "metadata": {},
   "cell_type": "code",
   "outputs": [],
   "execution_count": null,
   "source": "",
   "id": "be5cf4e31beb2f6f"
  }
 ],
 "metadata": {
  "kernelspec": {
   "display_name": "Python 3",
   "language": "python",
   "name": "python3"
  },
  "language_info": {
   "codemirror_mode": {
    "name": "ipython",
    "version": 2
   },
   "file_extension": ".py",
   "mimetype": "text/x-python",
   "name": "python",
   "nbconvert_exporter": "python",
   "pygments_lexer": "ipython2",
   "version": "2.7.6"
  }
 },
 "nbformat": 4,
 "nbformat_minor": 5
}
